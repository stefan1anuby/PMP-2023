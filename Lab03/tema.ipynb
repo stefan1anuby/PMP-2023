{
 "cells": [
  {
   "cell_type": "code",
   "execution_count": 1,
   "metadata": {},
   "outputs": [
    {
     "name": "stderr",
     "output_type": "stream",
     "text": [
      "c:\\Users\\Stefan Popa\\AppData\\Local\\Programs\\Python\\Python311\\Lib\\site-packages\\tqdm\\auto.py:21: TqdmWarning: IProgress not found. Please update jupyter and ipywidgets. See https://ipywidgets.readthedocs.io/en/stable/user_install.html\n",
      "  from .autonotebook import tqdm as notebook_tqdm\n"
     ]
    }
   ],
   "source": [
    "from pgmpy.models import BayesianNetwork\n",
    "from pgmpy.factors.discrete import TabularCPD\n",
    "from pgmpy.inference import VariableElimination\n",
    "import matplotlib.pyplot as plt\n",
    "import networkx as nx"
   ]
  },
  {
   "cell_type": "code",
   "execution_count": 7,
   "metadata": {},
   "outputs": [],
   "source": [
    "# Defining the model structure. We can define the network by just passing a list of edges.\n",
    "model = BayesianNetwork([('C', 'I'), ('C', 'A'), ('I','A')])\n",
    "\n",
    "# Definirea CPD-urilor\n",
    "cpd_c = TabularCPD(variable='C', variable_card=2, values=[[0.95], [0.05]]) \n",
    "\n",
    "cpd_i = TabularCPD(variable='I', variable_card=2, \n",
    "                   values=[[0.99, 0.97], \n",
    "                           [0.01, 0.03]],\n",
    "                   evidence=['C'], \n",
    "                   evidence_card=[2])\n",
    "\n",
    "cpd_a = TabularCPD(variable='A', variable_card=2, \n",
    "                   values=[[0.99, 0.02, 0.05, 0.02], \n",
    "                           [0.01, 0.98, 0.95, 0.98]],\n",
    "                   evidence=['C', 'I'], \n",
    "                   evidence_card=[2, 2])\n",
    "\n",
    "\n",
    "# Adaugarea CPD-urilor la model\n",
    "model.add_cpds(cpd_c, cpd_i, cpd_a)"
   ]
  },
  {
   "cell_type": "code",
   "execution_count": 8,
   "metadata": {},
   "outputs": [
    {
     "name": "stdout",
     "output_type": "stream",
     "text": [
      "+------+----------+\n",
      "| C    |   phi(C) |\n",
      "+======+==========+\n",
      "| C(0) |   0.2824 |\n",
      "+------+----------+\n",
      "| C(1) |   0.7176 |\n",
      "+------+----------+\n"
     ]
    }
   ],
   "source": [
    "infer = VariableElimination(model)\n",
    "#Ştiind că alarma de incendiu a fost declanşată, calculaţi probabilitatea să fi avut loc un cutremur.\n",
    "result = infer.query(variables=['C'], evidence={'A': 1})\n",
    "print(result)"
   ]
  },
  {
   "cell_type": "code",
   "execution_count": 9,
   "metadata": {},
   "outputs": [
    {
     "name": "stdout",
     "output_type": "stream",
     "text": [
      "+------+----------+\n",
      "| I    |   phi(I) |\n",
      "+======+==========+\n",
      "| I(0) |   0.9998 |\n",
      "+------+----------+\n",
      "| I(1) |   0.0002 |\n",
      "+------+----------+\n"
     ]
    }
   ],
   "source": [
    "#Afişaţi probabilitatea ca un incendiu sa fi avut loc, fără ca alarma de incendiu să se activeze.\n",
    "result = infer.query(variables=['I'], evidence={'A': 0})\n",
    "print(result)"
   ]
  }
 ],
 "metadata": {
  "kernelspec": {
   "display_name": "Python 3",
   "language": "python",
   "name": "python3"
  },
  "language_info": {
   "codemirror_mode": {
    "name": "ipython",
    "version": 3
   },
   "file_extension": ".py",
   "mimetype": "text/x-python",
   "name": "python",
   "nbconvert_exporter": "python",
   "pygments_lexer": "ipython3",
   "version": "3.11.3"
  },
  "orig_nbformat": 4
 },
 "nbformat": 4,
 "nbformat_minor": 2
}
