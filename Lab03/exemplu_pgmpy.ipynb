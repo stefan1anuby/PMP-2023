{
 "cells": [
  {
   "cell_type": "markdown",
   "metadata": {},
   "source": [
    "Un anumit produs se poate afla la vanzare (20%) cu reducere sau cu pret intreg. Cumparatorul poate avea nevoie urgenta (5%) de produsul respectiv sau nu. Cumparatorul ia decizia sa cumpere produsul dupa urmatoarele reguli:\n",
    "1. produsul este la reducere si are nevoie urgent de el -> cumperi 100%\n",
    "2. produsul este la reducere dar nu are nevoie urgent de el -> cumperi 50%\n",
    "3. fara reducere si are nevoie urgent -> cumperi 80% \n",
    "4. fara reducere si nu are nevoie urgent -> cumperi 20%\n",
    "\n",
    "Afisati probabilitatea ca cumparatorul sa fi avut nevoie urgenta de produs daca stim ca acesta a cumparat produsul.\n",
    "\n",
    "**Raspuns teoretic:**\n",
    "\n",
    "$$\n",
    "P(U=1|C=1)=\\frac{P(C=1|U=1)P(U=1)}{P(C=1|U=1)P(U=1)+P(C=1|U=0)P(U=0)}.\n",
    "$$\n",
    "Avem:\n",
    "\\begin{align*}\n",
    "P(C=1|U=1)  & =P(C=1|U=1,R=1)P(R=1)+P(C=1|U=1,R=0)P(R=0)\\\\\n",
    "& =1\\cdot0.2+0.8\\cdot0.8=0.84;\\\\\n",
    "P(C=1|U=0)  & =P(C=1|U=0,R=1)P(R=1)+P(C=1|U=0,R=0)P(R=0)\\\\\n",
    "& =0.5\\cdot0.2+0.2\\cdot0.8=0.26.\n",
    "\\end{align*}\n",
    "Deci\n",
    "$$\n",
    "P(U=1|C=1)=\\frac{0.84\\cdot0.05}{0.84\\cdot0.05+0.26\\cdot0.95}=0.14533.\n",
    "$$"
   ]
  },
  {
   "cell_type": "markdown",
   "metadata": {},
   "source": [
    "Install Graphviz: https://graphviz.org/download/\n",
    "\n",
    "(For ARM Macs: https://github.com/pygraphviz/pygraphviz/issues/398)\n",
    "```\n",
    "pip install pygraphviz\n",
    "pip install networkx\n",
    "pip install pgmpy\n",
    "```"
   ]
  },
  {
   "cell_type": "code",
   "execution_count": 1,
   "metadata": {},
   "outputs": [
    {
     "name": "stderr",
     "output_type": "stream",
     "text": [
      "/opt/homebrew/lib/python3.11/site-packages/tqdm/auto.py:21: TqdmWarning: IProgress not found. Please update jupyter and ipywidgets. See https://ipywidgets.readthedocs.io/en/stable/user_install.html\n",
      "  from .autonotebook import tqdm as notebook_tqdm\n"
     ]
    }
   ],
   "source": [
    "from pgmpy.models import BayesianNetwork\n",
    "from pgmpy.factors.discrete import TabularCPD\n",
    "from pgmpy.inference import VariableElimination\n",
    "import matplotlib.pyplot as plt\n",
    "import networkx as nx"
   ]
  },
  {
   "cell_type": "code",
   "execution_count": 2,
   "metadata": {},
   "outputs": [],
   "source": [
    "# Defining the model structure. We can define the network by just passing a list of edges.\n",
    "model = BayesianNetwork([('R', 'C'), ('U', 'C')])\n",
    "\n",
    "# Defining individual CPDs.\n",
    "cpd_r = TabularCPD(variable='R', variable_card=2, values=[[0.8], [0.2]]) # R=0 full price, R=1 discount\n",
    "cpd_u = TabularCPD(variable='U', variable_card=2, values=[[0.95], [0.05]]) # U=0 no urgent need, U=1 urgent need\n",
    "\n",
    "# The CPD for C is defined using the conditional probabilities based on U and R\n",
    "cpd_c = TabularCPD(variable='C', variable_card=2, \n",
    "                   values=[[0.8, 0.2, 0.5, 0.95], \n",
    "                           [0.2, 0.8, 0.5, 0.05]],\n",
    "                  evidence=['U', 'R'],\n",
    "                  evidence_card=[2, 2])\n",
    "\n",
    "# Associating the CPDs with the network\n",
    "model.add_cpds(cpd_r, cpd_u, cpd_c)"
   ]
  },
  {
   "cell_type": "code",
   "execution_count": 3,
   "metadata": {},
   "outputs": [],
   "source": [
    "# Verifying the model\n",
    "assert model.check_model()"
   ]
  },
  {
   "cell_type": "code",
   "execution_count": 4,
   "metadata": {},
   "outputs": [
    {
     "name": "stdout",
     "output_type": "stream",
     "text": [
      "+------+----------+\n",
      "| U    |   phi(U) |\n",
      "+======+==========+\n",
      "| U(0) |   0.9368 |\n",
      "+------+----------+\n",
      "| U(1) |   0.0632 |\n",
      "+------+----------+\n"
     ]
    },
    {
     "data": {
      "image/png": "[encoded data removed]",
      "text/plain": [
       "<Figure size 640x480 with 1 Axes>"
      ]
     },
     "metadata": {},
     "output_type": "display_data"
    }
   ],
   "source": [
    "# Performing exact inference using Variable Elimination\n",
    "infer = VariableElimination(model)\n",
    "result = infer.query(variables=['U'], evidence={'C': 1})\n",
    "print(result)\n",
    "\n",
    "pos = nx.circular_layout(model)\n",
    "nx.draw(model, pos=pos, with_labels=True, node_size=4000, font_weight='bold', node_color='skyblue')\n",
    "plt.show()\n"
   ]
  }
 ],
 "metadata": {
  "kernelspec": {
   "display_name": "Python 3.9.6 64-bit",
   "language": "python",
   "name": "python3"
  },
  "language_info": {
   "codemirror_mode": {
    "name": "ipython",
    "version": 3
   },
   "file_extension": ".py",
   "mimetype": "text/x-python",
   "name": "python",
   "nbconvert_exporter": "python",
   "pygments_lexer": "ipython3",
   "version": "3.11.2"
  },
  "vscode": {
   "interpreter": {
    "hash": "b0fa6594d8f4cbf19f97940f81e996739fb7646882a419484c72d19e05852a7e"
   }
  }
 },
 "nbformat": 4,
 "nbformat_minor": 1
}
